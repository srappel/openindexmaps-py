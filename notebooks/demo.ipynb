{
 "cells": [
  {
   "cell_type": "code",
   "execution_count": 12,
   "metadata": {},
   "outputs": [
    {
     "data": {
      "text/plain": [
       "'/Users/srappel/Documents/github/openindexmaps-py'"
      ]
     },
     "execution_count": 12,
     "metadata": {},
     "output_type": "execute_result"
    }
   ],
   "source": [
    "import os\n",
    "os.chdir(\"/Users/srappel/Documents/github/openindexmaps-py\")\n",
    "os.getcwd()"
   ]
  },
  {
   "cell_type": "code",
   "execution_count": 20,
   "metadata": {},
   "outputs": [
    {
     "name": "stdout",
     "output_type": "stream",
     "text": [
      "Metadata is valid.\n"
     ]
    }
   ],
   "source": [
    "from openindexmaps_py import metadata\n",
    "from datetime import datetime, timezone\n",
    "\n",
    "md_233bA62500a = metadata.GeoBlacklight_Metadata()\n",
    "md_233bA62500a.set_attribute(\"id\", \"ark:-77981-gmgs999AAAA\")\n",
    "md_233bA62500a.set_attribute(\"dct_title_s\", \"Cuba Military Map 233-b A-1:62,500a\")\n",
    "md_233bA62500a.set_attribute(\"gbl_resourceClass_sm\", [\"Maps\"])\n",
    "md_233bA62500a.set_attribute(\"dct_accessRights_s\", \"Public\")\n",
    "md_233bA62500a.set_attribute(\"gbl_resourceType_sm\", [\"Index Map\"])\n",
    "md_233bA62500a.set_attribute(\"dct_description_sm\", [\"Open Index Map for the Cuba Military Map set at the AGSL\"])\n",
    "md_233bA62500a.set_attribute(\"dct_format_s\", \"GeoJSON\") # Conditionally required if downloadURL in ref (which it should be!)\n",
    "\n",
    "\n",
    "\n",
    "\n",
    "\n",
    "\n",
    "\n",
    "\n",
    "# Timestamp and generate the file\n",
    "current_datetime = datetime.now(timezone.utc).strftime('%Y-%m-%dT%H:%M:%SZ')\n",
    "md_233bA62500a.set_attribute(\"gbl_mdModified_dt\", current_datetime)\n",
    "md_233bA62500a.generate_metadata_file(\"notebooks/files/233bA62500a_Aardvark.json\")"
   ]
  },
  {
   "cell_type": "code",
   "execution_count": 25,
   "metadata": {},
   "outputs": [
    {
     "name": "stdout",
     "output_type": "stream",
     "text": [
      "2024-07-25T16:57:03Z\n",
      "Metadata is valid.\n"
     ]
    }
   ],
   "source": [
    "# Let's add some more info:\n",
    "from openindexmaps_py import oimpy\n",
    "\n",
    "#locn_geometry\n",
    "\n",
    "\n",
    "\n",
    "md_233bA62500a.generate_metadata_file(\"notebooks/files/233bA62500a_Aardvark.json\")"
   ]
  },
  {
   "cell_type": "code",
   "execution_count": 70,
   "metadata": {},
   "outputs": [
    {
     "name": "stdout",
     "output_type": "stream",
     "text": [
      "[-180.0, -90.0, 180.0, 90.0]\n"
     ]
    }
   ],
   "source": [
    "from openindexmaps_py import oimpy\n",
    "import json\n",
    "\n",
    "# Example usage\n",
    "geojson_file_path = 'tests/fixture/f0140_OIM.geojson'\n",
    "with open(geojson_file_path, \"r\") as file:\n",
    "    json_data = json.load(file)\n",
    "    feature_list = []\n",
    "    features = json_data.get(\"features\")\n",
    "    for feature in features:\n",
    "        feature_sheet = oimpy.MapSheet(feature)\n",
    "        feature_list.append(feature_sheet)\n",
    "\n",
    "    OIM = oimpy.OpenIndexMap(feature_list)\n",
    "    print(OIM.compute_bbox())\n",
    "\n"
   ]
  },
  {
   "cell_type": "code",
   "execution_count": null,
   "metadata": {},
   "outputs": [],
   "source": []
  }
 ],
 "metadata": {
  "kernelspec": {
   "display_name": "venv",
   "language": "python",
   "name": "python3"
  },
  "language_info": {
   "codemirror_mode": {
    "name": "ipython",
    "version": 3
   },
   "file_extension": ".py",
   "mimetype": "text/x-python",
   "name": "python",
   "nbconvert_exporter": "python",
   "pygments_lexer": "ipython3",
   "version": "3.12.4"
  }
 },
 "nbformat": 4,
 "nbformat_minor": 2
}
