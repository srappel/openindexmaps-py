{
 "cells": [
  {
   "cell_type": "code",
   "execution_count": null,
   "metadata": {},
   "outputs": [],
   "source": [
    "import os\n",
    "os.chdir(\"/Users/srappel/Documents/github/openindexmaps-py\")\n",
    "os.getcwd()\n",
    "import json\n",
    "from openindexmaps_py import metadata, oimpy"
   ]
  },
  {
   "cell_type": "code",
   "execution_count": null,
   "metadata": {},
   "outputs": [],
   "source": [
    "right1 = r'<a href=\"https://uwm.edu/libraries/digital-collections/copyright-digcoll/\">Please see the UWM Libraries statement on Copyright and Digital Collections</a>.'\n",
    "right2 = r'Although this data is being distributed by the American Geographical Society Library at the University of Wisconsin-Milwaukee Libraries, no warranty expressed or implied is made by the University as to the accuracy of the data and related materials. The act of distribution shall not constitute any such warranty, and no responsibility is assumed by the University in the use of this data, or related materials.'\n",
    "\n",
    "#md_233bA62500a.set_attribute(\"dct_rights_sm\", [right1, right2])\n",
    "#md_233bA62500a.generate_metadata_file(\"notebooks/files/233bA62500a_Aardvark.json\")"
   ]
  },
  {
   "cell_type": "code",
   "execution_count": null,
   "metadata": {},
   "outputs": [],
   "source": [
    "filepath = 'notebooks/files/233bA62500a_Aardvark.json'\n",
    "md_from_file = metadata.GeoBlacklight_Metadata.from_file(filepath)\n",
    "md_from_file.set_attribute(\"gbl_suppressed_b\", True)"
   ]
  },
  {
   "cell_type": "code",
   "execution_count": null,
   "metadata": {},
   "outputs": [],
   "source": [
    "oim = oimpy.OpenIndexMap.from_file(\"tests/fixture/233bA62500a.geojson\")\n",
    "md_from_file.set_references('https://raw.githubusercontent.com/OpenIndexMaps/edu.uwm/main/233bA62500a.geojson')\n",
    "md_from_file.compute_details_from_oim(oim)\n",
    "md_from_file.generate_metadata_file(\"notebooks/files/233bA62500a_test.json\")"
   ]
  },
  {
   "cell_type": "code",
   "execution_count": null,
   "metadata": {},
   "outputs": [],
   "source": [
    "new_sheet = oimpy.Sheet()\n",
    "print(new_sheet)\n",
    "\n",
    "sheetdict = {\n",
    "            \"label\": \"\",\n",
    "            \"title\": \"\",\n",
    "            \"datePub\": \"\",\n",
    "            \"available\": \"\",\n",
    "            \"west\": -1.0,\n",
    "            \"east\": 1.0,\n",
    "            \"north\": 1.0,\n",
    "            \"south\": -1.0,\n",
    "        }\n",
    "\n",
    "new_sheet_from_dict = oimpy.Sheet(sheetdict)\n",
    "print(new_sheet_from_dict)\n",
    "\n",
    "print(new_sheet.is_valid)\n",
    "print(new_sheet_from_dict.is_valid)"
   ]
  },
  {
   "cell_type": "code",
   "execution_count": null,
   "metadata": {},
   "outputs": [],
   "source": [
    "defaultoim = oimpy.OpenIndexMap()\n",
    "print(defaultoim.__class__)"
   ]
  },
  {
   "cell_type": "code",
   "execution_count": null,
   "metadata": {},
   "outputs": [],
   "source": []
  }
 ],
 "metadata": {
  "kernelspec": {
   "display_name": "venv",
   "language": "python",
   "name": "python3"
  },
  "language_info": {
   "codemirror_mode": {
    "name": "ipython",
    "version": 3
   },
   "file_extension": ".py",
   "mimetype": "text/x-python",
   "name": "python",
   "nbconvert_exporter": "python",
   "pygments_lexer": "ipython3",
   "version": "3.12.4"
  }
 },
 "nbformat": 4,
 "nbformat_minor": 2
}
